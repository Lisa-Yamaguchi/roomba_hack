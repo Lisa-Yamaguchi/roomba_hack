{
 "cells": [
  {
   "cell_type": "code",
   "execution_count": 27,
   "metadata": {},
   "outputs": [],
   "source": [
    "#train,val, testの自動分割\n",
    "import glob\n",
    "import os\n",
    "import random\n",
    "\n",
    "dataset_dir=\"orignal_set\"\n",
    "\n",
    "#データ一覧\n",
    "img_list=glob.glob(os.path.join(dataset_dir+\"/labels\",\"*.txt\"))\n",
    "\n",
    "#データをシャッフル\n",
    "random.shuffle(img_list)\n",
    "\n",
    "#8:1:1に分割\n",
    "num_data=len(img_list)\n",
    "num_train=int(num_data*0.8)\n",
    "num_val=int(num_data*0.1)\n",
    "num_test=num_data-num_train-num_val\n",
    "\n",
    "#分割\n",
    "split_dict={}\n",
    "split_dict[\"train\"]=img_list[:num_train]\n",
    "split_dict[\"valid\"]=img_list[num_train:num_train+num_val]\n",
    "split_dict[\"test\"]=img_list[num_train+num_val:]\n",
    "\n",
    "\n",
    "for name in [\"train\",\"test\",\"valid\"]:\n",
    "    #フォルダ作成\n",
    "    dir_name=os.path.join(dataset_dir,name)\n",
    "    if not os.path.exists(dir_name):\n",
    "        os.mkdir(dir_name)\n",
    "\n",
    "    #images,labelsフォルダ作成\n",
    "    for folder in [\"images\",\"labels\"]:\n",
    "        dir_name2=os.path.join(dir_name,folder)\n",
    "        if not os.path.exists(dir_name2):\n",
    "            os.mkdir(dir_name2)\n",
    "\n",
    "        #コピー\n",
    "        for path in split_dict[name]:\n",
    "            txt_path=path\n",
    "            img_path=path.replace(\"labels\",\"images\").replace(\".txt\",\".png\")\n",
    "            if dir_name2.find(\"labels\")>0:\n",
    "                os.system(\"cp {} {}\".format(txt_path,dir_name2))\n",
    "            else:\n",
    "                os.system(\"cp {} {}\".format(img_path,dir_name2))"
   ]
  }
 ],
 "metadata": {
  "kernelspec": {
   "display_name": "sam",
   "language": "python",
   "name": "python3"
  },
  "language_info": {
   "codemirror_mode": {
    "name": "ipython",
    "version": 3
   },
   "file_extension": ".py",
   "mimetype": "text/x-python",
   "name": "python",
   "nbconvert_exporter": "python",
   "pygments_lexer": "ipython3",
   "version": "3.9.16"
  },
  "orig_nbformat": 4
 },
 "nbformat": 4,
 "nbformat_minor": 2
}
